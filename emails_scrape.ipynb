{
 "cells": [
  {
   "cell_type": "markdown",
   "id": "0cc0249e",
   "metadata": {},
   "source": [
    "# Imports"
   ]
  },
  {
   "cell_type": "code",
   "execution_count": 1,
   "id": "d20f1c6a",
   "metadata": {},
   "outputs": [],
   "source": [
    "from PyPDF2 import PdfFileReader\n",
    "import re\n",
    "from datetime import datetime\n",
    "from pprint import pprint\n",
    "import pandas as pd"
   ]
  },
  {
   "cell_type": "markdown",
   "id": "44289e4d",
   "metadata": {},
   "source": [
    "# Functions"
   ]
  },
  {
   "cell_type": "code",
   "execution_count": 2,
   "id": "93a92f3b",
   "metadata": {},
   "outputs": [],
   "source": [
    "def scrape_page(page_num):\n",
    "    page = pdf.getPage(page_num)\n",
    "    page_content = page.extractText()\n",
    "    message_num_re = re.match(r'^Message ([0-9]+) of [0-9]+\\n', page_content)\n",
    "    end = message_num_re.end()\n",
    "    message_num = int(message_num_re.group(1))\n",
    "    message_body_re = re.match(r'([\\s\\S]*)Sent: ', page_content[end:], flags=re.MULTILINE) \n",
    "    message_body = message_body_re.group(1)\n",
    "    end = message_body_re.end() + end\n",
    "    sent_date_re = re.match(r'([0-9]{2}/[0-9]{2}/[0-9]{4} at [0-9]{2}:[0-9]{2} (AM|PM))', page_content[end:], flags=re.MULTILINE) \n",
    "    sent_date = sent_date_re.group(1)\n",
    "    dt_obj_sent_date = datetime.strptime(sent_date, '%m/%d/%Y at %I:%M %p')\n",
    "    end = sent_date_re.end() + end\n",
    "    from_name_re = re.match(r'\\nFrom: (.*)$', page_content[end:], flags=re.MULTILINE)\n",
    "    from_name = from_name_re.group(1)\n",
    "    end = from_name_re.end() + end\n",
    "    to_name_re = re.match(r'\\nTo: (.*) \\(First Viewed: ', page_content[end:], flags=re.MULTILINE)\n",
    "    to_name = to_name_re.group(1)\n",
    "    end = to_name_re.end() + end\n",
    "    first_viewed_re = re.match(r'([0-9]{2}/[0-9]{2}/[0-9]{4} at [0-9]{2}:[0-9]{2} (AM|PM))', page_content[end:], flags=re.MULTILINE)\n",
    "    first_viewed = first_viewed_re.group(1)\n",
    "    dt_obj_first_viewed = datetime.strptime(first_viewed, '%m/%d/%Y at %I:%M %p')\n",
    "    next_re = re.match(r'([\\s\\S]*)', page_content[end:], flags=re.MULTILINE)\n",
    "    end = first_viewed_re.end() + end\n",
    "    subject_re = re.match(r'\\)\\nSubject: (.*)$', page_content[end:], flags=re.MULTILINE)\n",
    "    subject = subject_re.group(1)\n",
    "    _dict = {'page': page_num + 1, \n",
    "             'message_num': message_num,\n",
    "             'message_body': message_body,\n",
    "             'sent_date': dt_obj_sent_date,\n",
    "             'from_name': from_name,\n",
    "             'to_name': to_name,\n",
    "             'first_viewed': dt_obj_first_viewed,\n",
    "             'subject': subject,\n",
    "             'is_reply': subject[0:3].upper() == 'RE:',\n",
    "            }\n",
    "    return _dict\n",
    "\n",
    "def get_fullpage(page_num):\n",
    "    page = pdf.getPage(page_num)\n",
    "    page_content = page.extractText()\n",
    "    message_re = re.match(r'([\\s\\S]*)Page', page_content, flags=re.MULTILINE) \n",
    "    message = message_re.group(1)\n",
    "    return '\\n' + message"
   ]
  },
  {
   "cell_type": "markdown",
   "id": "608dbdf0",
   "metadata": {},
   "source": [
    "# body"
   ]
  },
  {
   "cell_type": "code",
   "execution_count": 3,
   "id": "d3c5006b",
   "metadata": {},
   "outputs": [],
   "source": [
    "pdf = PdfFileReader('emails.pdf')\n",
    "number_of_pages = pdf.getNumPages()\n",
    "information = pdf.getDocumentInfo()\n",
    "\n",
    "emails = []\n",
    "\n",
    "page = 0\n",
    "while True:\n",
    "    try:\n",
    "        emails.append(scrape_page(page))\n",
    "    except AttributeError:\n",
    "        last_email = emails[-1]\n",
    "        last_email['message_body'] = last_email['message_body'] + get_fullpage(page)\n",
    "    except IndexError:\n",
    "        break\n",
    "    page += 1"
   ]
  },
  {
   "cell_type": "code",
   "execution_count": null,
   "id": "3f59b8fc",
   "metadata": {
    "scrolled": true
   },
   "outputs": [],
   "source": [
    "df = pd.DataFrame(emails)\n"
   ]
  },
  {
   "cell_type": "code",
   "execution_count": 392,
   "id": "7746df69",
   "metadata": {},
   "outputs": [],
   "source": [
    "df.to_csv('emails.csv')"
   ]
  }
 ],
 "metadata": {
  "kernelspec": {
   "display_name": "Python 3 (ipykernel)",
   "language": "python",
   "name": "python3"
  },
  "language_info": {
   "codemirror_mode": {
    "name": "ipython",
    "version": 3
   },
   "file_extension": ".py",
   "mimetype": "text/x-python",
   "name": "python",
   "nbconvert_exporter": "python",
   "pygments_lexer": "ipython3",
   "version": "3.10.4"
  }
 },
 "nbformat": 4,
 "nbformat_minor": 5
}
